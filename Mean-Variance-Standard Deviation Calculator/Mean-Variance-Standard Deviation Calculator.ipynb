{
 "cells": [
  {
   "cell_type": "code",
   "execution_count": 5,
   "id": "65bbdf2f-7ce5-41cf-9c30-fd6396c7b4be",
   "metadata": {},
   "outputs": [],
   "source": [
    "import math\n",
    "\n",
    "def mean_variance_std_dev(arr):\n",
    "    results = {}\n",
    "    \n",
    "    for row in arr:\n",
    "        # For calculating Mean\n",
    "        mean = sum(row) / len(row)\n",
    "        \n",
    "        # For calculating Variance\n",
    "        variance = sum((x - mean) ** 2 for x in row) / len(row)\n",
    "        \n",
    "        # For calculating Standard Deviation\n",
    "        std_dev = math.sqrt(variance)\n",
    "        \n",
    "        # Store results in the dictionary\n",
    "        results[\"mean\"] = mean\n",
    "        results[\"variance\"] = variance\n",
    "        results[\"standard deviation\"] = std_dev\n",
    "    \n",
    "    return results\n"
   ]
  },
  {
   "cell_type": "code",
   "execution_count": 7,
   "id": "3c73b370-ab05-4598-8532-9f62a4e2862d",
   "metadata": {},
   "outputs": [
    {
     "name": "stdout",
     "output_type": "stream",
     "text": [
      "{'mean': 30.0, 'variance': 200.0, 'standard deviation': 14.142135623730951}\n"
     ]
    }
   ],
   "source": [
    "arr = [[1, 2, 3, 4, 5], [10, 20, 30, 40, 50]]\n",
    "print(mean_variance_std_dev(arr))"
   ]
  },
  {
   "cell_type": "code",
   "execution_count": null,
   "id": "0dfdc7be-5a4a-4048-a5ac-f6a501b62d70",
   "metadata": {},
   "outputs": [],
   "source": []
  }
 ],
 "metadata": {
  "kernelspec": {
   "display_name": "Python 3 (ipykernel)",
   "language": "python",
   "name": "python3"
  },
  "language_info": {
   "codemirror_mode": {
    "name": "ipython",
    "version": 3
   },
   "file_extension": ".py",
   "mimetype": "text/x-python",
   "name": "python",
   "nbconvert_exporter": "python",
   "pygments_lexer": "ipython3",
   "version": "3.12.7"
  }
 },
 "nbformat": 4,
 "nbformat_minor": 5
}
